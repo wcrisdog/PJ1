{
 "cells": [
  {
   "cell_type": "markdown",
   "metadata": {},
   "source": [
    "## MNIST Dataset"
   ]
  },
  {
   "cell_type": "markdown",
   "metadata": {},
   "source": [
    "dataset_explore: information about the model, label, figure, etc.  \n",
    "test_train.py  \n",
    "test_model.py  "
   ]
  },
  {
   "cell_type": "markdown",
   "metadata": {},
   "source": [
    "change runner to have different training process"
   ]
  },
  {
   "cell_type": "markdown",
   "metadata": {},
   "source": [
    "In \"mynn\", there are something taht we need to do.  \n",
    "\"op\" is the modulated part: linear, conv, Relu, Multicrossentropy  \n",
    "In \"models\", we need to construct models with op we have got, like mlp, CNN, S-net, etc.  "
   ]
  },
  {
   "cell_type": "markdown",
   "metadata": {},
   "source": [
    "Optimizer  \n",
    "MomentGD: Descent with moment"
   ]
  },
  {
   "cell_type": "markdown",
   "metadata": {},
   "source": [
    "Could also further write dataset method and parameter search  \n"
   ]
  }
 ],
 "metadata": {
  "language_info": {
   "name": "python"
  }
 },
 "nbformat": 4,
 "nbformat_minor": 2
}
